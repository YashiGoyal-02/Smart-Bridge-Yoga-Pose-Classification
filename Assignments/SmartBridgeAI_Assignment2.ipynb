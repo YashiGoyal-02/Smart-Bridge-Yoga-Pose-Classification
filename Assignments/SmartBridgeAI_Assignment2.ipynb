{
  "cells": [
    {
      "cell_type": "code",
      "execution_count": null,
      "id": "bfe74ef8",
      "metadata": {
        "id": "bfe74ef8"
      },
      "outputs": [],
      "source": [
        "#Import Libraries\n",
        "import pandas as pd\n",
        "from sklearn.model_selection import train_test_split\n",
        "from sklearn.preprocessing import LabelEncoder, StandardScaler\n"
      ]
    },
    {
      "cell_type": "markdown",
      "id": "f00389ec",
      "metadata": {
        "id": "f00389ec"
      },
      "source": [
        "### Task 1: Read the dataset and do data pre-processing"
      ]
    },
    {
      "cell_type": "code",
      "execution_count": null,
      "id": "dd9b6b2c",
      "metadata": {
        "id": "dd9b6b2c"
      },
      "outputs": [],
      "source": [
        "import pandas as pd\n",
        "from sklearn.model_selection import train_test_split\n",
        "from sklearn.preprocessing import LabelEncoder, StandardScaler\n",
        "\n",
        "# Read the dataset\n",
        "data = pd.read_csv(\"/Users/91957/Desktop/AI/drug200.csv\")\n",
        "\n",
        "# Split features and labels\n",
        "X = data.drop('Drug', axis=1)\n",
        "y = data['Drug']\n",
        "\n",
        "# Perform label encoding on categorical variables\n",
        "label_encoder = LabelEncoder()\n",
        "y = label_encoder.fit_transform(y)\n",
        "\n",
        "# Perform one-hot encoding on categorical features\n",
        "X = pd.get_dummies(X)\n",
        "\n",
        "# Scale the numeric features\n",
        "scaler = StandardScaler()\n",
        "X = scaler.fit_transform(X)\n",
        "\n",
        "# Split the dataset into training and testing sets\n",
        "X_train, X_test, y_train, y_test = train_test_split(X, y, test_size=0.2, random_state=42)\n"
      ]
    },
    {
      "cell_type": "markdown",
      "id": "d91adbde",
      "metadata": {
        "id": "d91adbde"
      },
      "source": [
        "### Task 2: Build the ANN model with (input layer, min 3 hidden layers & output layer)"
      ]
    },
    {
      "cell_type": "code",
      "execution_count": null,
      "id": "ed7ce01c",
      "metadata": {
        "id": "ed7ce01c"
      },
      "outputs": [],
      "source": [
        "from keras.models import Sequential\n",
        "from keras.layers import Dense\n",
        "\n",
        "# Build the ANN model\n",
        "model = Sequential()\n",
        "\n",
        "# Add input layer\n",
        "model.add(Dense(units=64, activation='relu', input_dim=X_train.shape[1]))\n",
        "\n",
        "# Add hidden layers\n",
        "model.add(Dense(units=32, activation='relu'))\n",
        "model.add(Dense(units=16, activation='relu'))\n",
        "model.add(Dense(units=8, activation='relu'))\n",
        "\n",
        "# Add output layer\n",
        "model.add(Dense(units=len(label_encoder.classes_), activation='softmax'))\n"
      ]
    },
    {
      "cell_type": "markdown",
      "id": "33548fba",
      "metadata": {
        "id": "33548fba"
      },
      "source": [
        "### Task 3: Test the model with random data"
      ]
    },
    {
      "cell_type": "code",
      "execution_count": null,
      "id": "a9fed3ea",
      "metadata": {
        "id": "a9fed3ea",
        "outputId": "716d8236-b46a-4b68-9c98-8215b1b62e23"
      },
      "outputs": [
        {
          "name": "stdout",
          "output_type": "stream",
          "text": [
            "1/1 [==============================] - 0s 85ms/step\n",
            "Random Data: [[0.56882987 0.62327292 0.27866548 0.60142272 0.50513416 0.75556058\n",
            "  0.78640712 0.42476746 0.61013672]]\n",
            "Predicted Drug: DrugY\n"
          ]
        }
      ],
      "source": [
        "import numpy as np\n",
        "\n",
        "# Generate random data\n",
        "random_data = np.random.rand(1, X_train.shape[1])\n",
        "\n",
        "# Make predictions\n",
        "predicted_class = np.argmax(model.predict(random_data))\n",
        "predicted_drug = label_encoder.inverse_transform([predicted_class])[0]\n",
        "\n",
        "print(\"Random Data:\", random_data)\n",
        "print(\"Predicted Drug:\", predicted_drug)\n"
      ]
    },
    {
      "cell_type": "code",
      "execution_count": null,
      "id": "81e1a1ed",
      "metadata": {
        "id": "81e1a1ed"
      },
      "outputs": [],
      "source": [
        "\n"
      ]
    }
  ],
  "metadata": {
    "kernelspec": {
      "display_name": "Python 3 (ipykernel)",
      "language": "python",
      "name": "python3"
    },
    "language_info": {
      "codemirror_mode": {
        "name": "ipython",
        "version": 3
      },
      "file_extension": ".py",
      "mimetype": "text/x-python",
      "name": "python",
      "nbconvert_exporter": "python",
      "pygments_lexer": "ipython3",
      "version": "3.8.12"
    },
    "colab": {
      "provenance": []
    }
  },
  "nbformat": 4,
  "nbformat_minor": 5
}